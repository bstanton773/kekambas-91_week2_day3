{
 "cells": [
  {
   "cell_type": "markdown",
   "metadata": {},
   "source": [
    "# Functions"
   ]
  },
  {
   "cell_type": "markdown",
   "metadata": {},
   "source": [
    "#### Warm up"
   ]
  },
  {
   "cell_type": "code",
   "execution_count": 137,
   "metadata": {},
   "outputs": [],
   "source": [
    "bands = ['  thE beATles   ', 'tHe RoLLing sTones..', '.,tHe eagles', 'the tEMptationS  ']\n"
   ]
  },
  {
   "cell_type": "code",
   "execution_count": 138,
   "metadata": {},
   "outputs": [],
   "source": [
    "# Output: ['The Beatles', 'The Rolling Stones', etc]"
   ]
  },
  {
   "cell_type": "code",
   "execution_count": 142,
   "metadata": {},
   "outputs": [],
   "source": [
    "bands2 = [' The whO  ', '  .   , tHE dOORS  ', ' the bAnd   ', '...,  THE kINks    ']\n",
    "\n"
   ]
  },
  {
   "cell_type": "markdown",
   "metadata": {},
   "source": [
    "## Functions"
   ]
  },
  {
   "cell_type": "markdown",
   "metadata": {},
   "source": [
    "##### User-Defined vs. Built-In Function"
   ]
  },
  {
   "cell_type": "code",
   "execution_count": 2,
   "metadata": {},
   "outputs": [
    {
     "name": "stdout",
     "output_type": "stream",
     "text": [
      "<built-in function max>\n",
      "Help on built-in function max in module builtins:\n",
      "\n",
      "max(...)\n",
      "    max(iterable, *[, default=obj, key=func]) -> value\n",
      "    max(arg1, arg2, *args, *[, key=func]) -> value\n",
      "    \n",
      "    With a single iterable argument, return its biggest item. The\n",
      "    default keyword-only argument specifies an object to return if\n",
      "    the provided iterable is empty.\n",
      "    With two or more arguments, return the largest argument.\n",
      "\n"
     ]
    }
   ],
   "source": [
    "# Built-in functions\n",
    "print(max)\n",
    "help(max)"
   ]
  },
  {
   "cell_type": "code",
   "execution_count": 5,
   "metadata": {},
   "outputs": [
    {
     "name": "stdout",
     "output_type": "stream",
     "text": [
      "<function say_hello at 0x000001B480E1C0D0>\n"
     ]
    },
    {
     "data": {
      "text/plain": [
       "<function __main__.say_hello()>"
      ]
     },
     "execution_count": 5,
     "metadata": {},
     "output_type": "execute_result"
    }
   ],
   "source": [
    "# User Defined Function\n",
    "# Syntax: def function_name():\n",
    "#             <CODE TO EXECUTE WHEN CALLED>\n",
    "\n",
    "# Creating a function\n",
    "def say_hello(): # <-- DEFINING THE FUNCTION!\n",
    "    print('Hello')\n",
    "    \n",
    "    \n",
    "print(say_hello)\n",
    "say_hello"
   ]
  },
  {
   "cell_type": "code",
   "execution_count": 6,
   "metadata": {},
   "outputs": [
    {
     "name": "stdout",
     "output_type": "stream",
     "text": [
      "Help on function say_hello in module __main__:\n",
      "\n",
      "say_hello()\n",
      "    # Creating a function\n",
      "\n"
     ]
    }
   ],
   "source": [
    "help(say_hello)"
   ]
  },
  {
   "cell_type": "code",
   "execution_count": 7,
   "metadata": {},
   "outputs": [
    {
     "name": "stdout",
     "output_type": "stream",
     "text": [
      "<class 'function'>\n"
     ]
    }
   ],
   "source": [
    "print(type(say_hello))"
   ]
  },
  {
   "cell_type": "code",
   "execution_count": 11,
   "metadata": {},
   "outputs": [
    {
     "name": "stdout",
     "output_type": "stream",
     "text": [
      "Before the function runs\n",
      "Hello\n",
      "After the function runs\n"
     ]
    }
   ],
   "source": [
    "# Executing a function\n",
    "# Syntax: function_name()\n",
    "\n",
    "\n",
    "print('Before the function runs')\n",
    "say_hello() # <-- EXECUTING/CALLING/INVOKING THE FUNCTION\n",
    "print('After the function runs')"
   ]
  },
  {
   "cell_type": "markdown",
   "metadata": {},
   "source": [
    "##### Accepting Parameters"
   ]
  },
  {
   "cell_type": "code",
   "execution_count": 16,
   "metadata": {},
   "outputs": [
    {
     "name": "stdout",
     "output_type": "stream",
     "text": [
      "first: Brian\n",
      "last: Stanton\n",
      "Hello Brian Stanton\n",
      "first: Stanton\n",
      "last: Brian\n",
      "Hello Stanton Brian\n"
     ]
    }
   ],
   "source": [
    "# Syntax: def function_name(param1, param2):\n",
    "#             <CODE TO EXECUTE with variable param1 and param2>\n",
    "def say_hello2(first, last): # <-- `first` and `last` are parameters (aka placeholders)\n",
    "    print(f\"first: {first}\")\n",
    "    print(f\"last: {last}\")\n",
    "    print(f\"Hello {first} {last}\")\n",
    "\n",
    "    \n",
    "# Execute\n",
    "# Syntax: function_name(data1, data2)\n",
    "\n",
    "say_hello2('Brian', 'Stanton') # <-- `Brian` and `Stanton` are arguments (aka real data)\n",
    "say_hello2('Stanton', 'Brian')"
   ]
  },
  {
   "cell_type": "code",
   "execution_count": 17,
   "metadata": {},
   "outputs": [
    {
     "ename": "TypeError",
     "evalue": "say_hello2() takes 2 positional arguments but 3 were given",
     "output_type": "error",
     "traceback": [
      "\u001b[1;31m---------------------------------------------------------------------------\u001b[0m",
      "\u001b[1;31mTypeError\u001b[0m                                 Traceback (most recent call last)",
      "\u001b[1;32m<ipython-input-17-6e9c43f02f22>\u001b[0m in \u001b[0;36m<module>\u001b[1;34m\u001b[0m\n\u001b[1;32m----> 1\u001b[1;33m \u001b[0msay_hello2\u001b[0m\u001b[1;33m(\u001b[0m\u001b[1;34m'Brian'\u001b[0m\u001b[1;33m,\u001b[0m \u001b[1;34m'Patrick'\u001b[0m\u001b[1;33m,\u001b[0m \u001b[1;34m'Stanton'\u001b[0m\u001b[1;33m)\u001b[0m\u001b[1;33m\u001b[0m\u001b[1;33m\u001b[0m\u001b[0m\n\u001b[0m",
      "\u001b[1;31mTypeError\u001b[0m: say_hello2() takes 2 positional arguments but 3 were given"
     ]
    }
   ],
   "source": [
    "say_hello2('Brian', 'Patrick', 'Stanton')"
   ]
  },
  {
   "cell_type": "markdown",
   "metadata": {},
   "source": [
    "##### Passing in variables as parameters"
   ]
  },
  {
   "cell_type": "code",
   "execution_count": 21,
   "metadata": {},
   "outputs": [
    {
     "name": "stdout",
     "output_type": "stream",
     "text": [
      "Chicago, IL -- 60606\n",
      "Boston, MA -- 02212\n",
      "New York, NY -- 10456\n"
     ]
    }
   ],
   "source": [
    "city1 = 'Boston'\n",
    "state1 = 'MA'\n",
    "zip_code1 = '02212'\n",
    "\n",
    "city2 = 'New York'\n",
    "state2 = 'NY'\n",
    "zip_code2 = '10456'\n",
    "\n",
    "\n",
    "def format_address(city_name, state_name, zip_code):\n",
    "    print(f\"{city_name}, {state_name} -- {zip_code}\")\n",
    "    \n",
    "    \n",
    "format_address('Chicago', 'IL', '60606')\n",
    "format_address(city1, state1, zip_code1) # <-- `city1`, `state1`, and `zip_code1` are variable arguments\n",
    "format_address(city2, state2, zip_code2)"
   ]
  },
  {
   "cell_type": "markdown",
   "metadata": {},
   "source": [
    "##### Keyword Arguments"
   ]
  },
  {
   "cell_type": "code",
   "execution_count": 22,
   "metadata": {},
   "outputs": [],
   "source": [
    "def make_a_payment(total_amount_due, amount_paid, account_number):\n",
    "    new_total = total_amount_due - amount_paid\n",
    "    print(f\"You have made a payment of ${amount_paid} to Account #{account_number}\")\n",
    "    print(f\"Your new balance is ${new_total}\")\n",
    "    print(\"Thank you for your payment\")\n",
    "    \n",
    "    \n"
   ]
  },
  {
   "cell_type": "code",
   "execution_count": 23,
   "metadata": {},
   "outputs": [
    {
     "name": "stdout",
     "output_type": "stream",
     "text": [
      "You have made a payment of $100 to Account #8321324790\n",
      "Your new balance is $900\n",
      "Thank you for your payment\n"
     ]
    }
   ],
   "source": [
    "make_a_payment(1000, 100, '8321324790')"
   ]
  },
  {
   "cell_type": "code",
   "execution_count": 26,
   "metadata": {},
   "outputs": [
    {
     "name": "stdout",
     "output_type": "stream",
     "text": [
      "You have made a payment of $150 to Account #353873489\n",
      "Your new balance is $1850\n",
      "Thank you for your payment\n"
     ]
    }
   ],
   "source": [
    "make_a_payment(2000, account_number='353873489', amount_paid=150)"
   ]
  },
  {
   "cell_type": "code",
   "execution_count": 28,
   "metadata": {},
   "outputs": [
    {
     "name": "stdout",
     "output_type": "stream",
     "text": [
      "You have made a payment of $150 to Account #353873489\n",
      "Your new balance is $1850\n",
      "Thank you for your payment\n"
     ]
    }
   ],
   "source": [
    "make_a_payment(2000, account_number='353873489', amount_paid=150)"
   ]
  },
  {
   "cell_type": "code",
   "execution_count": 29,
   "metadata": {},
   "outputs": [
    {
     "name": "stdout",
     "output_type": "stream",
     "text": [
      "10\n",
      "15\n"
     ]
    }
   ],
   "source": [
    "num = 0\n",
    "\n",
    "num += 10\n",
    "print(num)\n",
    "num += 5\n",
    "print(num)"
   ]
  },
  {
   "cell_type": "markdown",
   "metadata": {},
   "source": [
    "##### Default Parameters"
   ]
  },
  {
   "cell_type": "code",
   "execution_count": 48,
   "metadata": {
    "scrolled": true
   },
   "outputs": [
    {
     "name": "stdout",
     "output_type": "stream",
     "text": [
      "Thank you Brian. Here is your receipt:\n",
      "1 Hamburger\n",
      "\twith cheese\n",
      "\twith lettuce\n",
      "\twith tomato\n",
      "Total: $9.50\n"
     ]
    }
   ],
   "source": [
    "# default parameters need to be AFTER non-default (poisitional) parameters at all times\n",
    "\n",
    "def make_a_burger(customer_name, cheese=True, lettuce=True, tomato=True, onions=None):\n",
    "    total_price = 9.50\n",
    "    receipt = f\"Thank you {customer_name}. Here is your receipt:\\n\"\n",
    "    receipt += \"1 Hamburger\\n\"\n",
    "    if cheese:\n",
    "        receipt += \"\\twith cheese\\n\"\n",
    "    if lettuce:\n",
    "        receipt += \"\\twith lettuce\\n\"\n",
    "    if tomato:\n",
    "        receipt += \"\\twith tomato\\n\"\n",
    "    if onions:\n",
    "        receipt += f\"\\twith {onions} onions\\n\"\n",
    "        total_price += .50\n",
    "    receipt += f\"Total: ${total_price:.2f}\"\n",
    "    print(receipt)\n",
    "    \n",
    "    \n",
    "make_a_burger('Brian')"
   ]
  },
  {
   "cell_type": "code",
   "execution_count": 49,
   "metadata": {},
   "outputs": [
    {
     "name": "stdout",
     "output_type": "stream",
     "text": [
      "Thank you Claire. Here is your receipt:\n",
      "1 Hamburger\n",
      "\twith cheese\n",
      "Total: $9.50\n"
     ]
    }
   ],
   "source": [
    "make_a_burger('Claire', True, False, False)"
   ]
  },
  {
   "cell_type": "code",
   "execution_count": 53,
   "metadata": {},
   "outputs": [
    {
     "name": "stdout",
     "output_type": "stream",
     "text": [
      "Thank you David. Here is your receipt:\n",
      "1 Hamburger\n",
      "\twith cheese\n",
      "\twith lettuce\n",
      "\twith grilled onions\n",
      "Total: $10.00\n"
     ]
    }
   ],
   "source": [
    "make_a_burger('David', tomato=False, onions='grilled')"
   ]
  },
  {
   "cell_type": "code",
   "execution_count": null,
   "metadata": {},
   "outputs": [],
   "source": []
  },
  {
   "cell_type": "markdown",
   "metadata": {},
   "source": [
    "##### \\*args and **kwargs"
   ]
  },
  {
   "cell_type": "code",
   "execution_count": 54,
   "metadata": {},
   "outputs": [
    {
     "name": "stdout",
     "output_type": "stream",
     "text": [
      "Help on built-in function max in module builtins:\n",
      "\n",
      "max(...)\n",
      "    max(iterable, *[, default=obj, key=func]) -> value\n",
      "    max(arg1, arg2, *args, *[, key=func]) -> value\n",
      "    \n",
      "    With a single iterable argument, return its biggest item. The\n",
      "    default keyword-only argument specifies an object to return if\n",
      "    the provided iterable is empty.\n",
      "    With two or more arguments, return the largest argument.\n",
      "\n"
     ]
    }
   ],
   "source": [
    "help(max)"
   ]
  },
  {
   "cell_type": "code",
   "execution_count": 56,
   "metadata": {
    "scrolled": true
   },
   "outputs": [
    {
     "data": {
      "text/plain": [
       "42345"
      ]
     },
     "execution_count": 56,
     "metadata": {},
     "output_type": "execute_result"
    }
   ],
   "source": [
    "max(4, 5, 6, 234, 456, 123, 246, 45, 213, 42345, 134)"
   ]
  },
  {
   "cell_type": "code",
   "execution_count": 74,
   "metadata": {},
   "outputs": [
    {
     "name": "stdout",
     "output_type": "stream",
     "text": [
      "arg1: a\n",
      "args: ('b', 'c', 'd', 'e', 'f')\n",
      "<class 'tuple'>\n",
      "b\n",
      "c\n",
      "d\n",
      "e\n",
      "f\n",
      "kwargs: {'key': 'value', 'num': 10, 'name': 'Brian', 'test': <built-in function max>, 'a_list': [1, 2, 3, 4]}\n",
      "<class 'dict'>\n"
     ]
    }
   ],
   "source": [
    "def my_function(arg1, *args, **kwargs):\n",
    "    print(\"arg1:\", arg1)\n",
    "#     print(\"arg2:\", arg2)\n",
    "    print(\"args:\", args)\n",
    "    print(type(args))\n",
    "    for x in args:\n",
    "        print(x)\n",
    "    print(\"kwargs:\", kwargs)\n",
    "    print(type(kwargs))\n",
    "    \n",
    "    \n",
    "my_function('a', 'b', 'c', 'd', 'e', 'f', key='value', num=10, name='Brian', test=max, a_list=[1, 2, 3, 4])"
   ]
  },
  {
   "cell_type": "markdown",
   "metadata": {},
   "source": [
    "#### In Class Exercise 1"
   ]
  },
  {
   "cell_type": "markdown",
   "metadata": {},
   "source": [
    "Create a function that takes in a color, make, and model and formats it into a string.<br>\n",
    "Then loop over the cars list and apply the function to each element.<br>\n",
    "Expected Output:<br>\n",
    "<code>Blue Toyota Tundra\n",
    "Green Chevy Silverado\n",
    "Pink Ford F-150</code>\n"
   ]
  },
  {
   "cell_type": "code",
   "execution_count": 75,
   "metadata": {},
   "outputs": [
    {
     "name": "stdout",
     "output_type": "stream",
     "text": [
      "('blue', 'toyota', 'tundra')\n",
      "<class 'tuple'>\n",
      "('green', 'chevy', 'silverado')\n",
      "<class 'tuple'>\n",
      "('pink', 'ford', 'f-150')\n",
      "<class 'tuple'>\n"
     ]
    }
   ],
   "source": [
    "cars = [('blue', 'toyota', 'tundra'), ('green', 'chevy', 'silverado'), ('pink', 'ford', 'f-150')]\n",
    "\n",
    "\n",
    "\n",
    "for car in cars:\n",
    "    print(car)\n",
    "    print(type(car))"
   ]
  },
  {
   "cell_type": "code",
   "execution_count": 78,
   "metadata": {},
   "outputs": [
    {
     "name": "stdout",
     "output_type": "stream",
     "text": [
      "('blue', 'toyota', 'tundra')\n",
      "Blue Toyota Tundra\n",
      "('green', 'chevy', 'silverado')\n",
      "Green Chevy Silverado\n",
      "('pink', 'ford', 'f-150')\n",
      "Pink Ford F-150\n"
     ]
    }
   ],
   "source": [
    "def format_car(color, make, model):\n",
    "    print(f\"{color} {make} {model}\".title())\n",
    "    \n",
    "    \n",
    "for car in cars:\n",
    "    print(car)\n",
    "    format_car(car[0], car[1], car[2])"
   ]
  },
  {
   "cell_type": "code",
   "execution_count": 84,
   "metadata": {},
   "outputs": [
    {
     "name": "stdout",
     "output_type": "stream",
     "text": [
      "Blue Toyota Tundra\n",
      "Green Chevy Silverado\n",
      "Pink Ford F-150\n"
     ]
    }
   ],
   "source": [
    "for color, make, model in cars:\n",
    "    format_car(color, make, model)"
   ]
  },
  {
   "cell_type": "code",
   "execution_count": 87,
   "metadata": {},
   "outputs": [
    {
     "name": "stdout",
     "output_type": "stream",
     "text": [
      "1\n",
      "2\n"
     ]
    }
   ],
   "source": [
    "a, b, c, d = (1, 2, 3, 4)\n",
    "\n",
    "print(a)\n",
    "print(b)"
   ]
  },
  {
   "cell_type": "code",
   "execution_count": null,
   "metadata": {},
   "outputs": [],
   "source": [
    "color, make, model = ('red', 'honda', 'civic')\n",
    "\n"
   ]
  },
  {
   "cell_type": "code",
   "execution_count": 90,
   "metadata": {},
   "outputs": [
    {
     "data": {
      "text/plain": [
       "[('red', 'honda', 'civic'), ('green', 'ford', 'mustang')]"
      ]
     },
     "execution_count": 90,
     "metadata": {},
     "output_type": "execute_result"
    }
   ],
   "source": [
    "list_of_tuples = [('red', 'honda', 'civic'), ('green', 'ford', 'mustang')]\n",
    "list_of_tuples"
   ]
  },
  {
   "cell_type": "code",
   "execution_count": 93,
   "metadata": {},
   "outputs": [
    {
     "name": "stdout",
     "output_type": "stream",
     "text": [
      "red honda civic\n",
      "green ford mustang\n"
     ]
    }
   ],
   "source": [
    "for col, make, mod in list_of_tuples:\n",
    "    print(col, make, mod)"
   ]
  },
  {
   "cell_type": "markdown",
   "metadata": {},
   "source": [
    "## Scope <br>\n",
    "<p>Scope refers to the ability to access variables, different types of scope include:<br>a) Global<br>b) Function (local)<br>c) Class (local)</p>"
   ]
  },
  {
   "cell_type": "code",
   "execution_count": 100,
   "metadata": {},
   "outputs": [
    {
     "name": "stdout",
     "output_type": "stream",
     "text": [
      "Jimmy Smith\n",
      "Little Joey has been assigned to Ms. Buttercup's class.\n",
      "Little Joey\n"
     ]
    }
   ],
   "source": [
    "student = 'Little Joey'\n",
    "teacher = 'Ms. Buttercup'\n",
    "\n",
    "def assign_student(student_name):\n",
    "    student = 'Jimmy Smith'\n",
    "    print(student)\n",
    "    print(f\"{student_name} has been assigned to {teacher}'s class.\")\n",
    "    \n",
    "    \n",
    "assign_student(student)\n",
    "print(student)"
   ]
  },
  {
   "cell_type": "code",
   "execution_count": 101,
   "metadata": {},
   "outputs": [
    {
     "name": "stdout",
     "output_type": "stream",
     "text": [
      "Help on class list in module builtins:\n",
      "\n",
      "class list(object)\n",
      " |  list(iterable=(), /)\n",
      " |  \n",
      " |  Built-in mutable sequence.\n",
      " |  \n",
      " |  If no argument is given, the constructor creates a new empty list.\n",
      " |  The argument must be an iterable if specified.\n",
      " |  \n",
      " |  Methods defined here:\n",
      " |  \n",
      " |  __add__(self, value, /)\n",
      " |      Return self+value.\n",
      " |  \n",
      " |  __contains__(self, key, /)\n",
      " |      Return key in self.\n",
      " |  \n",
      " |  __delitem__(self, key, /)\n",
      " |      Delete self[key].\n",
      " |  \n",
      " |  __eq__(self, value, /)\n",
      " |      Return self==value.\n",
      " |  \n",
      " |  __ge__(self, value, /)\n",
      " |      Return self>=value.\n",
      " |  \n",
      " |  __getattribute__(self, name, /)\n",
      " |      Return getattr(self, name).\n",
      " |  \n",
      " |  __getitem__(...)\n",
      " |      x.__getitem__(y) <==> x[y]\n",
      " |  \n",
      " |  __gt__(self, value, /)\n",
      " |      Return self>value.\n",
      " |  \n",
      " |  __iadd__(self, value, /)\n",
      " |      Implement self+=value.\n",
      " |  \n",
      " |  __imul__(self, value, /)\n",
      " |      Implement self*=value.\n",
      " |  \n",
      " |  __init__(self, /, *args, **kwargs)\n",
      " |      Initialize self.  See help(type(self)) for accurate signature.\n",
      " |  \n",
      " |  __iter__(self, /)\n",
      " |      Implement iter(self).\n",
      " |  \n",
      " |  __le__(self, value, /)\n",
      " |      Return self<=value.\n",
      " |  \n",
      " |  __len__(self, /)\n",
      " |      Return len(self).\n",
      " |  \n",
      " |  __lt__(self, value, /)\n",
      " |      Return self<value.\n",
      " |  \n",
      " |  __mul__(self, value, /)\n",
      " |      Return self*value.\n",
      " |  \n",
      " |  __ne__(self, value, /)\n",
      " |      Return self!=value.\n",
      " |  \n",
      " |  __repr__(self, /)\n",
      " |      Return repr(self).\n",
      " |  \n",
      " |  __reversed__(self, /)\n",
      " |      Return a reverse iterator over the list.\n",
      " |  \n",
      " |  __rmul__(self, value, /)\n",
      " |      Return value*self.\n",
      " |  \n",
      " |  __setitem__(self, key, value, /)\n",
      " |      Set self[key] to value.\n",
      " |  \n",
      " |  __sizeof__(self, /)\n",
      " |      Return the size of the list in memory, in bytes.\n",
      " |  \n",
      " |  append(self, object, /)\n",
      " |      Append object to the end of the list.\n",
      " |  \n",
      " |  clear(self, /)\n",
      " |      Remove all items from list.\n",
      " |  \n",
      " |  copy(self, /)\n",
      " |      Return a shallow copy of the list.\n",
      " |  \n",
      " |  count(self, value, /)\n",
      " |      Return number of occurrences of value.\n",
      " |  \n",
      " |  extend(self, iterable, /)\n",
      " |      Extend list by appending elements from the iterable.\n",
      " |  \n",
      " |  index(self, value, start=0, stop=9223372036854775807, /)\n",
      " |      Return first index of value.\n",
      " |      \n",
      " |      Raises ValueError if the value is not present.\n",
      " |  \n",
      " |  insert(self, index, object, /)\n",
      " |      Insert object before index.\n",
      " |  \n",
      " |  pop(self, index=-1, /)\n",
      " |      Remove and return item at index (default last).\n",
      " |      \n",
      " |      Raises IndexError if list is empty or index is out of range.\n",
      " |  \n",
      " |  remove(self, value, /)\n",
      " |      Remove first occurrence of value.\n",
      " |      \n",
      " |      Raises ValueError if the value is not present.\n",
      " |  \n",
      " |  reverse(self, /)\n",
      " |      Reverse *IN PLACE*.\n",
      " |  \n",
      " |  sort(self, /, *, key=None, reverse=False)\n",
      " |      Sort the list in ascending order and return None.\n",
      " |      \n",
      " |      The sort is in-place (i.e. the list itself is modified) and stable (i.e. the\n",
      " |      order of two equal elements is maintained).\n",
      " |      \n",
      " |      If a key function is given, apply it once to each list item and sort them,\n",
      " |      ascending or descending, according to their function values.\n",
      " |      \n",
      " |      The reverse flag can be set to sort in descending order.\n",
      " |  \n",
      " |  ----------------------------------------------------------------------\n",
      " |  Static methods defined here:\n",
      " |  \n",
      " |  __new__(*args, **kwargs) from builtins.type\n",
      " |      Create and return a new object.  See help(type) for accurate signature.\n",
      " |  \n",
      " |  ----------------------------------------------------------------------\n",
      " |  Data and other attributes defined here:\n",
      " |  \n",
      " |  __hash__ = None\n",
      "\n"
     ]
    }
   ],
   "source": [
    "help(list)"
   ]
  },
  {
   "cell_type": "code",
   "execution_count": 104,
   "metadata": {},
   "outputs": [],
   "source": [
    "my_list = []\n",
    "my_list.append(123)\n"
   ]
  },
  {
   "cell_type": "code",
   "execution_count": 105,
   "metadata": {},
   "outputs": [
    {
     "name": "stdout",
     "output_type": "stream",
     "text": [
      "[2, 4]\n"
     ]
    }
   ],
   "source": [
    "evenlist = []\n",
    "\n",
    "def get_evens(a_list):\n",
    "    for num in a_list:\n",
    "        if num % 2 == 0:\n",
    "            evenlist.append(num)\n",
    "    print(evenlist)\n",
    "    \n",
    "    \n",
    "get_evens([1, 2, 3, 4, 5])"
   ]
  },
  {
   "cell_type": "code",
   "execution_count": 106,
   "metadata": {},
   "outputs": [
    {
     "name": "stdout",
     "output_type": "stream",
     "text": [
      "[2, 4, 100, 102]\n"
     ]
    }
   ],
   "source": [
    "get_evens([100, 101, 102, 103])"
   ]
  },
  {
   "cell_type": "markdown",
   "metadata": {},
   "source": [
    "##### Returning Values"
   ]
  },
  {
   "cell_type": "code",
   "execution_count": 107,
   "metadata": {},
   "outputs": [
    {
     "name": "stdout",
     "output_type": "stream",
     "text": [
      "10\n"
     ]
    }
   ],
   "source": [
    "# Mathematical Function - y = f(x)\n",
    "# Where f is the function, x is the input(s), and y is the dependent variable (or the return variable)\n",
    "\n",
    "def f(x):\n",
    "    return 2 * x\n",
    "\n",
    "y = f(5)\n",
    "print(y)"
   ]
  },
  {
   "cell_type": "code",
   "execution_count": 108,
   "metadata": {},
   "outputs": [],
   "source": [
    "z = f(10)"
   ]
  },
  {
   "cell_type": "code",
   "execution_count": 110,
   "metadata": {},
   "outputs": [
    {
     "name": "stdout",
     "output_type": "stream",
     "text": [
      "20 400\n"
     ]
    }
   ],
   "source": [
    "print(z, z**2)"
   ]
  },
  {
   "cell_type": "code",
   "execution_count": 117,
   "metadata": {
    "scrolled": true
   },
   "outputs": [
    {
     "data": {
      "text/plain": [
       "0"
      ]
     },
     "execution_count": 117,
     "metadata": {},
     "output_type": "execute_result"
    }
   ],
   "source": [
    "# Return will also immediately terminate the function\n",
    "def early_return(n):\n",
    "    for i in range(n):\n",
    "        return i\n",
    "    \n",
    "early_return(1000)"
   ]
  },
  {
   "cell_type": "code",
   "execution_count": 115,
   "metadata": {},
   "outputs": [
    {
     "data": {
      "text/plain": [
       "0"
      ]
     },
     "execution_count": 115,
     "metadata": {},
     "output_type": "execute_result"
    }
   ],
   "source": [
    "def early_return_again(n):\n",
    "    for i in range(n):\n",
    "        return i\n",
    "    print('Hello this is after the for loop')\n",
    "    \n",
    "early_return_again(10)"
   ]
  },
  {
   "cell_type": "markdown",
   "metadata": {},
   "source": [
    "#### Multiple returns in a function"
   ]
  },
  {
   "cell_type": "code",
   "execution_count": 122,
   "metadata": {},
   "outputs": [
    {
     "name": "stdout",
     "output_type": "stream",
     "text": [
      "True\n",
      "False\n"
     ]
    }
   ],
   "source": [
    "def can_vote(birth_year):\n",
    "    if 2022 - birth_year >= 18:\n",
    "        return True\n",
    "    return False\n",
    "    \n",
    "print(can_vote(2000))\n",
    "print(can_vote(2005))"
   ]
  },
  {
   "cell_type": "code",
   "execution_count": 131,
   "metadata": {},
   "outputs": [],
   "source": [
    "def test(abc):\n",
    "    print(abc)"
   ]
  },
  {
   "cell_type": "markdown",
   "metadata": {},
   "source": [
    "##### Difference between `return` and `print`"
   ]
  },
  {
   "cell_type": "code",
   "execution_count": 133,
   "metadata": {},
   "outputs": [
    {
     "name": "stdout",
     "output_type": "stream",
     "text": [
      "I Love Python!\n",
      "None by Brian:\n",
      "Python is such a great language. I love learning about it.\n"
     ]
    }
   ],
   "source": [
    "def create_headline_print(message):\n",
    "    print(message.strip().title() + '!')\n",
    "    \n",
    "def create_headline_return(message):\n",
    "    return message.strip().title() + '!'\n",
    "\n",
    "\n",
    "def publish_article(headline, author, body):\n",
    "    clean_headline = create_headline_print(headline)\n",
    "    \n",
    "    print(f\"{clean_headline} by {author}:\\n{body}\")\n",
    "    \n",
    "    \n",
    "publish_article(\"     i love python      \", 'Brian', 'Python is such a great language. I love learning about it.')"
   ]
  },
  {
   "cell_type": "markdown",
   "metadata": {},
   "source": [
    "#### Functions with Lists"
   ]
  },
  {
   "cell_type": "code",
   "execution_count": 134,
   "metadata": {},
   "outputs": [
    {
     "data": {
      "text/plain": [
       "<function __main__.clean_names(list_of_names)>"
      ]
     },
     "execution_count": 134,
     "metadata": {},
     "output_type": "execute_result"
    }
   ],
   "source": [
    "def clean_names(list_of_names):\n",
    "    output_list = []\n",
    "    for name in list_of_names:\n",
    "        clean_name = name.strip().title()\n",
    "        output_list.append(clean_name)\n",
    "    return output_list\n",
    "\n",
    "\n",
    "clean_names"
   ]
  },
  {
   "cell_type": "code",
   "execution_count": 135,
   "metadata": {},
   "outputs": [
    {
     "name": "stdout",
     "output_type": "stream",
     "text": [
      "['John Lennon', 'Paul Mccartney', 'George Harrison', 'Ringo Starr']\n"
     ]
    }
   ],
   "source": [
    "messy_beatles = ['   joHN lENNon  ', '  PaUL MCCartNEy ', '  gEORge HARRisOn     ', '   rInGo STarr   ']\n",
    "\n",
    "clean_beatles = clean_names(messy_beatles)\n",
    "\n",
    "print(clean_beatles)"
   ]
  },
  {
   "cell_type": "code",
   "execution_count": 136,
   "metadata": {},
   "outputs": [
    {
     "name": "stdout",
     "output_type": "stream",
     "text": [
      "['Connor', 'Connor', 'Bob', 'Max', 'Kevin', 'Brian']\n"
     ]
    }
   ],
   "source": [
    "names = ['connor', 'connor', 'bob', 'max', '     KeVIN   ', '    brIaN     ']\n",
    "\n",
    "cleaned_names = clean_names(names)\n",
    "print(cleaned_names)"
   ]
  },
  {
   "cell_type": "code",
   "execution_count": 143,
   "metadata": {},
   "outputs": [
    {
     "name": "stdout",
     "output_type": "stream",
     "text": [
      "['The Beatles', 'The Rolling Stones', 'The Eagles', 'The Temptations']\n",
      "['The Who', 'The Doors', 'The Band', 'The Kinks']\n"
     ]
    }
   ],
   "source": [
    "def clean_band_names(messy_bands):\n",
    "    return [band.strip('., ').title() for band in messy_bands]\n",
    "\n",
    "print(clean_band_names(bands))\n",
    "print(clean_band_names(bands2))"
   ]
  },
  {
   "cell_type": "markdown",
   "metadata": {},
   "source": [
    "#### In-Class Exercise 2"
   ]
  },
  {
   "cell_type": "markdown",
   "metadata": {},
   "source": [
    "Create a function that takes in the list of tuples ('city', 'country') and a country name and returns a list of the cities in that country"
   ]
  },
  {
   "cell_type": "code",
   "execution_count": 145,
   "metadata": {},
   "outputs": [
    {
     "data": {
      "text/plain": [
       "['Rome', 'Florence']"
      ]
     },
     "execution_count": 145,
     "metadata": {},
     "output_type": "execute_result"
    }
   ],
   "source": [
    "cities = [\n",
    "    (\"London\", \"England\"), \n",
    "    (\"Manchester\", \"England\"), \n",
    "    (\"Barcelona\", \"Spain\"), \n",
    "    (\"Madrid\", \"Spain\"), \n",
    "    (\"Rome\", \"Italy\"), \n",
    "    (\"Florence\", \"Italy\")\n",
    "]\n",
    "\n",
    "def cities_in_country(list_of_tuples, country_name):\n",
    "    return [city for city, country in list_of_tuples if country == country_name]\n",
    "\n",
    "\n",
    "cities_in_country(cities, 'Italy')\n",
    "# ['Rome', 'Florence']"
   ]
  },
  {
   "cell_type": "markdown",
   "metadata": {},
   "source": [
    "#### Docstrings"
   ]
  },
  {
   "cell_type": "code",
   "execution_count": 146,
   "metadata": {},
   "outputs": [
    {
     "name": "stdout",
     "output_type": "stream",
     "text": [
      "Help on built-in function max in module builtins:\n",
      "\n",
      "max(...)\n",
      "    max(iterable, *[, default=obj, key=func]) -> value\n",
      "    max(arg1, arg2, *args, *[, key=func]) -> value\n",
      "    \n",
      "    With a single iterable argument, return its biggest item. The\n",
      "    default keyword-only argument specifies an object to return if\n",
      "    the provided iterable is empty.\n",
      "    With two or more arguments, return the largest argument.\n",
      "\n"
     ]
    }
   ],
   "source": [
    "help(max)"
   ]
  },
  {
   "cell_type": "code",
   "execution_count": 147,
   "metadata": {},
   "outputs": [
    {
     "name": "stdout",
     "output_type": "stream",
     "text": [
      "Help on function cities_in_country in module __main__:\n",
      "\n",
      "cities_in_country(list_of_tuples, country_name)\n",
      "\n"
     ]
    }
   ],
   "source": [
    "help(cities_in_country)"
   ]
  },
  {
   "cell_type": "code",
   "execution_count": 150,
   "metadata": {},
   "outputs": [
    {
     "data": {
      "text/plain": [
       "30"
      ]
     },
     "execution_count": 150,
     "metadata": {},
     "output_type": "execute_result"
    }
   ],
   "source": [
    "def add_nums(num1, num2):\n",
    "    \"\"\"\n",
    "    add_nums takes in two arguments (num1 and num2) and adds the two together. num1 and num2 must be either a int or float\n",
    "    num1 -> int or float\n",
    "    num2 -> int or float\n",
    "    return int or float\n",
    "    \"\"\"\n",
    "    return num1 + num2\n",
    "\n",
    "add_nums(10, 20)"
   ]
  },
  {
   "cell_type": "code",
   "execution_count": 151,
   "metadata": {},
   "outputs": [
    {
     "name": "stdout",
     "output_type": "stream",
     "text": [
      "Help on function add_nums in module __main__:\n",
      "\n",
      "add_nums(num1, num2)\n",
      "    add_nums takes in two arguments (num1 and num2) and adds the two together. num1 and num2 must be either a int or float\n",
      "    num1 -> int or float\n",
      "    num2 -> int or float\n",
      "    return int or float\n",
      "\n"
     ]
    }
   ],
   "source": [
    "help(add_nums)"
   ]
  },
  {
   "cell_type": "markdown",
   "metadata": {},
   "source": [
    "#### Whiteboard Approach"
   ]
  },
  {
   "cell_type": "markdown",
   "metadata": {},
   "source": [
    "1. What are the input(s)?\n",
    "2. What are the output(s)?\n",
    "3. Consider constraints and edge cases\n",
    "4. Write out steps logically (No python)\n",
    "5. Pseudocode\n",
    "6. Code"
   ]
  },
  {
   "cell_type": "markdown",
   "metadata": {},
   "source": [
    "#### Whiteboard Example"
   ]
  },
  {
   "cell_type": "markdown",
   "metadata": {},
   "source": [
    "Find Even numbers<br>\n",
    "Create a function that, given a list as a parameter, finds the even numbers <br>\n",
    "inside the list. The function should then return a list.<br>\n",
    "Bonus: Use a list comprehension to find your solution<br>\n",
    "Example:<br>\n",
    "Input: [2, 7, 10, 11, 12]<br>\n",
    "Output: [2, 10, 12]<br>"
   ]
  },
  {
   "cell_type": "code",
   "execution_count": 152,
   "metadata": {},
   "outputs": [
    {
     "data": {
      "text/plain": [
       "[2, 10, 12]"
      ]
     },
     "execution_count": 152,
     "metadata": {},
     "output_type": "execute_result"
    }
   ],
   "source": [
    "# 1. Input(s): List[int]\n",
    "# 2. Output(s): List[int] -> all int in the list should be even\n",
    "# 3. If input list is empty or has no evens, return an empty list. Can assume all ints that are between 0 and 100\n",
    "\n",
    "# 4. Create function that will Go through the list, check each number if it is even (aka divisible by 2), if number is even, add that number\n",
    "# to a list holding even numbers, once finished going through all numbers in input list, return the list\n",
    "# of even numbers\n",
    "\n",
    "# 5.\n",
    "\n",
    "# define our function with one parameter (list of ints between 0 and 100)\n",
    "\n",
    "    # create an empty list for our even numbers\n",
    "    \n",
    "    # loop through the list of ints\n",
    "    \n",
    "        # Check if the current int is even (divisible by two)\n",
    "        \n",
    "            # if even, add int to out list of even numbers\n",
    "            \n",
    "        # if not even, do nothing\n",
    "    \n",
    "    # at the end of the loop, return the list of even numbers\n",
    "    \n",
    "    \n",
    "# 6.\n",
    "def get_even_nums(list_of_nums):\n",
    "    even_nums = []\n",
    "    for num in list_of_nums:\n",
    "        if num % 2 == 0:\n",
    "            even_nums.append(num)\n",
    "    return even_nums\n",
    "    \n",
    "get_even_nums([2, 7, 10, 11, 12])   "
   ]
  },
  {
   "cell_type": "code",
   "execution_count": null,
   "metadata": {},
   "outputs": [],
   "source": []
  }
 ],
 "metadata": {
  "kernelspec": {
   "display_name": "Python 3",
   "language": "python",
   "name": "python3"
  },
  "language_info": {
   "codemirror_mode": {
    "name": "ipython",
    "version": 3
   },
   "file_extension": ".py",
   "mimetype": "text/x-python",
   "name": "python",
   "nbconvert_exporter": "python",
   "pygments_lexer": "ipython3",
   "version": "3.8.5"
  }
 },
 "nbformat": 4,
 "nbformat_minor": 2
}
